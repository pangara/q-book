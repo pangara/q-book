{
 "cells": [
  {
   "cell_type": "markdown",
   "id": "disturbed-journey",
   "metadata": {},
   "source": [
    "(motivation)=\n",
    "\n",
    "# Motivation\n",
    "\n",
    "```{figure} /_static/xkcd.png\n",
    ":scale: 70%\n",
    ":name: xkcd \n",
    "\n",
    "A relevant XKCD comic on quantum teleportation. \n",
    "```\n",
    "\n",
    "Teleportation of humans and objects has been the subject of fascination for all of us for a very long time. One of the first examples of teleportation in literature was in an 1897 novel called [To Venus in Five Seconds by Fred T. Jane](https://en.wikipedia.org/wiki/To_Venus_in_Five_Seconds).  \n",
    "\n",
    "In this tutorial, we won't discuss this kind of teleportation but we will discuss Quantum Teleportation, which is a scheme for the transfer of quantum information, which is _almost_ as cool as the teleportation of matter.\n",
    "\n",
    "In 1993, Bennett et al.,{cite}`bennett1993teleporting` showed that quantum teleportation was actually possible using the rules of quantum mechanics, and has since been followed by [experiments that demonstrate quantum teleportation](https://news.fnal.gov/2020/12/fermilab-and-partners-achieve-sustained-high-fidelity-quantum-teleportation/).\n",
    "\n",
    "Quantum Teleportation is not only cool, but also has important implications to quantum computing, quantum communication, and also interestingly to quantum hardware too {cite}`Pirandola_2015`. \n",
    "\n",
    "## Quantum Teleportation\n",
    "```{figure} /_static/teleport.png\n",
    ":scale: 40%\n",
    ":name: teleport \n",
    "\n",
    "The complete quantum teleportation circuit  \n",
    "```\n",
    "\n",
    "Quantum Teleportation is a technique for transferring quantum information from a source to a destination far away. The quantum teleportation circuit shown in the figure above has many components which we will discuss in detail in the next few sections. I introduce it here is so that you know what to expect from this tutorial. By the end of this tutorial, you will learn all the symbols used here and what they mean in the context of quantum computing.\n",
    "\n",
    "**Let's begin our journey!**\n",
    "\n",
    "## References\n",
    "\n",
    "```{bibliography} ../_bibliography/references.bib\n",
    "\n",
    "```"
   ]
  }
 ],
 "metadata": {
  "jupytext": {
   "text_representation": {
    "extension": ".md",
    "format_name": "myst"
   }
  },
  "kernelspec": {
   "display_name": "Python 3",
   "language": "python",
   "name": "python3"
  },
  "language_info": {
   "codemirror_mode": {
    "name": "ipython",
    "version": 3
   },
   "file_extension": ".py",
   "mimetype": "text/x-python",
   "name": "python",
   "nbconvert_exporter": "python",
   "pygments_lexer": "ipython3",
   "version": "3.8.5"
  },
  "source_map": [
   10
  ]
 },
 "nbformat": 4,
 "nbformat_minor": 5
}
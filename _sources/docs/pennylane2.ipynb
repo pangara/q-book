{
 "cells": [
  {
   "cell_type": "markdown",
   "id": "recovered-terry",
   "metadata": {},
   "source": [
    "(pennylane2)=\n",
    "# PennyLane II: Entanglement\n",
    "In this section, we will create a quantum circuit that entangles two qubits. \n",
    "\n",
    "## Setup\n",
    "Let's start with our usual setup by importing the necessary libraries"
   ]
  },
  {
   "cell_type": "code",
   "execution_count": null,
   "id": "current-sharp",
   "metadata": {},
   "outputs": [],
   "source": [
    "import pennylane as qml\n",
    "from pennylane import numpy as np\n",
    "import matplotlib.pyplot as plt\n",
    "%matplotlib inline"
   ]
  },
  {
   "cell_type": "markdown",
   "id": "italian-class",
   "metadata": {},
   "source": [
    "## Create a device with two qubits"
   ]
  },
  {
   "cell_type": "code",
   "execution_count": null,
   "id": "fresh-psychiatry",
   "metadata": {},
   "outputs": [],
   "source": [
    "dev = qml.device(\"default.qubit\", wires=2)\n"
   ]
  },
  {
   "cell_type": "markdown",
   "id": "forward-muslim",
   "metadata": {},
   "source": [
    "## Create the entanglement circuit\n",
    "\n",
    "The entanglement circuit involving applying the Hadamard gate to the first qubit followed by the CNOT gate with the second qubit as the target qubit."
   ]
  },
  {
   "cell_type": "code",
   "execution_count": null,
   "id": "becoming-terrace",
   "metadata": {},
   "outputs": [],
   "source": [
    "@qml.qnode(dev)\n",
    "def entanglement():\n",
    "    # Prepare q1\n",
    "    qml.Hadamard(wires=0)\n",
    "    qml.CNOT(wires=[0, 1])\n",
    "    \n",
    "    return qml.probs(wires=[0, 1])\n"
   ]
  },
  {
   "cell_type": "markdown",
   "id": "accompanied-separation",
   "metadata": {},
   "source": [
    "## Run the circuit"
   ]
  },
  {
   "cell_type": "code",
   "execution_count": null,
   "id": "colonial-ethics",
   "metadata": {},
   "outputs": [],
   "source": [
    "entanglement()"
   ]
  },
  {
   "cell_type": "markdown",
   "id": "happy-newsletter",
   "metadata": {},
   "source": [
    "`array([0.5, 0. , 0. , 0.5])`  \n",
    "\n",
    "\n",
    "\n",
    "## Visualize Results\n",
    "Since we have two qubits it can be in one of four states."
   ]
  },
  {
   "cell_type": "code",
   "execution_count": null,
   "id": "moral-theology",
   "metadata": {},
   "outputs": [],
   "source": [
    "states = ['00', '01', '10', '11']\n",
    "probs = entanglement()\n",
    "\n",
    "plt.figure()\n",
    "\n",
    "plt.bar(states, probs)\n",
    "plt.xlabel('State', fontsize=18)\n",
    "plt.ylabel('Probability', fontsize=16)\n"
   ]
  },
  {
   "cell_type": "markdown",
   "id": "single-satellite",
   "metadata": {},
   "source": [
    "```{figure} /_static/probs-2.PNG\n",
    ":scale: 100%\n",
    ":name: probs-2 \n",
    "Results of `entanglement()` visualized using matplotlib\n",
    "\n",
    "```\n",
    "The results show that the qubits cannot be in the state $|01\\rangle$, $|10\\rangle$ and the probability of finding both qubits in state 00 is 0.5 and the probability of finding the qubits in 11 is 0.5 showing that we have indeed achieved an entangled state. \n",
    "\n",
    "## More Code\n",
    "```{admonition} Exercise: Test with other initial states\n",
    "Try to create entanglement states with other starter states such as $|01\\rangle$, $|10\\rangle$, $|11\\rangle$. Tip: You can flip the qubit by using the `qml.PauliX()` gate.\n",
    "\n",
    "```\n",
    "\n",
    "## Further reading\n",
    "\n",
    "[PennyLane documentation](https://pennylane.readthedocs.io/en/stable/introduction/circuits.html) provides more information about creating quantum nodes and circuits."
   ]
  }
 ],
 "metadata": {
  "jupytext": {
   "text_representation": {
    "extension": ".md",
    "format_name": "myst"
   }
  },
  "kernelspec": {
   "display_name": "Python 3",
   "language": "python",
   "name": "python3"
  },
  "source_map": [
   10,
   19,
   24,
   27,
   31,
   36,
   46,
   49,
   52,
   61,
   71
  ]
 },
 "nbformat": 4,
 "nbformat_minor": 5
}
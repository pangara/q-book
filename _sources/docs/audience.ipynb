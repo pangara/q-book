{
 "cells": [
  {
   "cell_type": "markdown",
   "id": "protecting-bracelet",
   "metadata": {},
   "source": [
    "(audience)=\n",
    "\n",
    "\n",
    "# Before we start\n",
    "\n",
    "<img style=\"float: right; max-width:300px; max-height:300px;\" src=\"../_static/kids.jpg\">\n",
    "\n",
    "## Audience\n",
    "\n",
    "This tutorial is for you if: \n",
    "\n",
    "* You have a basic idea about quantum computing from general online reading\n",
    "* You have an introductory understanding of the following things:\n",
    "    * Binary digits \n",
    "    * Vectors \n",
    "    * Matrices\n",
    "    * Complex Numbers\n",
    "* You are curious and want to dig deeper into quantum computing\n",
    "\n",
    "## Learning Outcomes\n",
    "By the end of this tutorial, you will\n",
    "\n",
    "* learn about single qubit systems and multi-qubit systems, their mathematical representation \n",
    "* learn about the mathematical explanations of superposition and entanglement\n",
    "* be able to manipulate quantum states using gates\n",
    "* learn to write short quantum programs using Pennylane\n",
    "* understand quantum teleportation mathematically\n",
    "* learn how to build the quantum teleportation circuit\n",
    "\n",
    "## A math-first tutorial\n",
    "\n",
    "When I started learning quantum computing, the best way for me to learn was to first understand the math by writing it down and improving my understanding by coding it. This will be the style in which the tutorial can be followed. I encourage you to grab a pen and paper to attempt the exercises in each module.\n",
    "Every section will have a math component followed optionally by a code component."
   ]
  }
 ],
 "metadata": {
  "jupytext": {
   "text_representation": {
    "extension": ".md",
    "format_name": "myst"
   }
  },
  "kernelspec": {
   "display_name": "Python 3",
   "language": "python",
   "name": "python3"
  },
  "language_info": {
   "codemirror_mode": {
    "name": "ipython",
    "version": 3
   },
   "file_extension": ".py",
   "mimetype": "text/x-python",
   "name": "python",
   "nbconvert_exporter": "python",
   "pygments_lexer": "ipython3",
   "version": "3.8.5"
  },
  "source_map": [
   10
  ]
 },
 "nbformat": 4,
 "nbformat_minor": 5
}
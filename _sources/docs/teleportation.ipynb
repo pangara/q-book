{
 "cells": [
  {
   "cell_type": "markdown",
   "metadata": {},
   "source": [
    "(teleportation)=\n",
    "\n",
    "# Teleportation\n",
    "\n",
    "We are now ready to understand how the teleportation circuit works. From our section on motivation, we understand that teleportation is a process of sending quantum information. Sounds simple enough, but we have a problem called the **no-cloning theorem**. The no-cloning theorem is a result of quantum mechanics which forbids the creation of identical copies of an arbitrary unknown quantum state.\n",
    "\n",
    "## Problem Statement\n",
    "\n",
    "* Alice has to send a qubit to Bob. \n",
    "* Alice and Bob have a pre-shared Bell State\n",
    "* Alice can send only classical information to Bob\n",
    "* Alice doesn’t know the state of the qubit, even if she does, describing it would take infinite amount of classical information since qubits take value in a continuous space. \n",
    "\n",
    "## Solution\n",
    "* Alice interacts $|\\psi\\rangle$ with her half of the Bell pair, and then makes a measurement (Bell basis measurement)\n",
    "* She obtains one of four classical results 00, 01, 10 or 11 and sends this information to Bob\n",
    "* Depending on Alice’s classical message, Bob performs one of four operations on his half of the EPR pair\n",
    "* This recovers the state $|\\psi\\rangle$!\n",
    "\n",
    "## A step-by-step explanation"
   ]
  }
 ],
 "metadata": {
  "jupytext": {
   "text_representation": {
    "extension": ".md",
    "format_name": "myst"
   }
  },
  "kernelspec": {
   "display_name": "Python 3",
   "language": "python",
   "name": "python3"
  },
  "language_info": {
   "codemirror_mode": {
    "name": "ipython",
    "version": 3
   },
   "file_extension": ".py",
   "mimetype": "text/x-python",
   "name": "python",
   "nbconvert_exporter": "python",
   "pygments_lexer": "ipython3",
   "version": "3.8.5"
  },
  "source_map": [
   10
  ]
 },
 "nbformat": 4,
 "nbformat_minor": 4
}
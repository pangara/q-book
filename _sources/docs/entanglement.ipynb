{
 "cells": [
  {
   "cell_type": "markdown",
   "metadata": {},
   "source": [
    "(entanglement)=\n",
    "\n",
    "# Entanglement\n",
    "\n",
    "```{figure} /_static/einstein.PNG\n",
    ":scale: 30%\n",
    ":name: einsten \n",
    "\n",
    "Following Einstein, Podolski and Rosen's paper, famously called the EPR paper reported something \"spooky\", which later came to be lnown as entanglement between two particles.\n",
    "\n",
    "```\n",
    "\n",
    "Entanglement is a physical phenomenon that occurs between particles or in our case qubits, such that the quantum state of one of the qubits cannot be desceibed independently of the other. In other words, the state cannot be tensor facotrized. Bell states, named after John Bell, are two qubit entangled states. \n",
    "\n",
    "## How to create a Bell State/Pair\n",
    "\n",
    "By combining the Hadamard gate and the CNOT gate, one can create an entangled state. The process is as follows:\n",
    "1. Initialize two qubits in the state $|00\\rangle$. Here the first qubit is in the state $|0\\rangle$ and the second qubit is in the state $|0\\rangle$\n",
    "2. Apply the Hadamard gate on the first qubit\n",
    "3. Apply the CNOT gate with the second qubit as the target qubit.\n",
    "\n",
    "```{figure} /_static/entangle.PNG\n",
    ":scale: 50%\n",
    ":name: entangle \n",
    "\n",
    "Creation of a Bell Pair\n",
    "\n",
    "```\n",
    "\n",
    "Let's understand how the math works out.\n",
    "\n",
    "$$\n",
    "CNOT(H(|00>)) \\rightarrow CNOT(\\frac{|00> + |10>}{\\sqrt2}) \\rightarrow \\frac{|00> + |11>}{\\sqrt2} \n",
    "$$\n",
    "\n",
    "The state $\\frac{|00> + |11>}{\\sqrt2}$ is called a Bell state. It cannot be tensor factorized. What this means is that we cannot split this state into a form line $|u\\rangle \\otimes |v\\rangle$."
   ]
  }
 ],
 "metadata": {
  "jupytext": {
   "text_representation": {
    "extension": ".md",
    "format_name": "myst"
   }
  },
  "kernelspec": {
   "display_name": "Python 3",
   "language": "python",
   "name": "python3"
  },
  "language_info": {
   "codemirror_mode": {
    "name": "ipython",
    "version": 3
   },
   "file_extension": ".py",
   "mimetype": "text/x-python",
   "name": "python",
   "nbconvert_exporter": "python",
   "pygments_lexer": "ipython3",
   "version": "3.8.5"
  },
  "source_map": [
   10
  ]
 },
 "nbformat": 4,
 "nbformat_minor": 4
}
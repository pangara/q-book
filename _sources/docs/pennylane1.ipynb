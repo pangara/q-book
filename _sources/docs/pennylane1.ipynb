{
 "cells": [
  {
   "cell_type": "markdown",
   "id": "practical-saying",
   "metadata": {},
   "source": [
    "(pennylane1)=\n",
    "# PennyLane I: Introduction\n",
    "\n",
    "Now that we understand some of the basics of quantum computing we are ready to code!\n",
    "\n",
    "```{admonition} Installation\n",
    ":class: note\n",
    "\n",
    "1. If you plan to run the code on your own machine, you need Python 3.6 or above. Recommended install: [Anaconda Python](https://www.anaconda.com/products/individual#download-section). \n",
    "\n",
    "2. [Install PennyLane](https://pennylane.readthedocs.io/en/stable/development/guide/installation.html)\n",
    "\n",
    "\n",
    "```\n",
    "\n",
    "## Setup \n",
    "\n",
    "Import the necessary libraries for our code to run PennyLane"
   ]
  },
  {
   "cell_type": "code",
   "execution_count": null,
   "id": "secondary-natural",
   "metadata": {},
   "outputs": [],
   "source": [
    "import pennylane as qml\n",
    "from pennylane import numpy as np\n",
    "import matplotlib.pyplot as plt\n",
    "%matplotlib inline"
   ]
  },
  {
   "cell_type": "markdown",
   "id": "requested-office",
   "metadata": {},
   "source": [
    "## Create a device\n",
    "Create a device. `default.qubit` is a state vector simulator that allows us to simulate qubits. More about [qml.device here](https://pennylane.readthedocs.io/en/stable/code/api/pennylane.device.html). With the wires argument, we can specify the number of qubits we are working with."
   ]
  },
  {
   "cell_type": "code",
   "execution_count": null,
   "id": "regular-azerbaijan",
   "metadata": {},
   "outputs": [],
   "source": [
    "dev = qml.device(\"default.qubit\", wires=1)\n"
   ]
  },
  {
   "cell_type": "markdown",
   "id": "incomplete-bandwidth",
   "metadata": {},
   "source": [
    "## Create a circuit\n",
    "Let's create our circuit. In PennyLane, quantum circuits are created as quantum functions. These quantum computations are represented as quantum node (QNode) objects. We create the QNodes with something called a qnode decorator. All you need to know about this, for now, is that you need to precede your function with `@qml.qnode(dev)`"
   ]
  },
  {
   "cell_type": "code",
   "execution_count": null,
   "id": "olive-thirty",
   "metadata": {},
   "outputs": [],
   "source": [
    "@qml.qnode(dev) # the decorator\n",
    "def quantum_circuit():\n",
    "    # your circuit here\n"
   ]
  },
  {
   "cell_type": "markdown",
   "id": "stock-table",
   "metadata": {},
   "source": [
    "We need to populate this quantum circuit. Let's try out some gates."
   ]
  },
  {
   "cell_type": "code",
   "execution_count": null,
   "id": "eligible-motivation",
   "metadata": {},
   "outputs": [],
   "source": [
    "@qml.qnode(dev) # the decorator\n",
    "def quantum_circuit():\n",
    "    # your circuit here\n",
    "    qml.Hadamard(wires=0)\n",
    "    qml.PauliX(wires = 0)"
   ]
  },
  {
   "cell_type": "markdown",
   "id": "overhead-delta",
   "metadata": {},
   "source": [
    "## Perform a measurement\n",
    "There are different ways in PennyLane in which we can obtain our measurement outcome.  We will be using the `qml.probs()` function for this tutorial since we do need to know the probability of measuring all the different outcomes. PennyLane qnodes adhere to the rule that all measurements must be done at the end of the circuit and returned in the order of measurement. Since we have only one qubit, we measure it and return the value."
   ]
  },
  {
   "cell_type": "code",
   "execution_count": null,
   "id": "brown-slovak",
   "metadata": {},
   "outputs": [],
   "source": [
    "@qml.qnode(dev) # the decorator\n",
    "def quantum_circuit():\n",
    "    # Gates\n",
    "    qml.Hadamard(wires=0)\n",
    "    qml.PauliX(wires = 0)\n",
    "\n",
    "    # Measurement\n",
    "    m = qml.probs(wires=[0])\n",
    "    return m"
   ]
  },
  {
   "cell_type": "markdown",
   "id": "overall-renewal",
   "metadata": {},
   "source": [
    "## Run the circuit\n",
    "Let's see what we get when we run the circuit that we just created."
   ]
  },
  {
   "cell_type": "code",
   "execution_count": null,
   "id": "dominican-croatia",
   "metadata": {},
   "outputs": [],
   "source": [
    "quantum_circuit()\n"
   ]
  },
  {
   "cell_type": "markdown",
   "id": "widespread-pilot",
   "metadata": {},
   "source": [
    "`array([0.5, 0.5])`  \n",
    "Since we have one qubit it can be in one of two states. The array has two values representing the probabilities of measuring 0 and 1 respectively. Since we applied the Hadamard gate, there is an equal probability of measuring (0.5) 0 or 1. \n",
    "\n",
    "## Visualize Results\n",
    "We can visualize these results by using matplotlib which is a helpful library that helps us plot graphs."
   ]
  },
  {
   "cell_type": "code",
   "execution_count": null,
   "id": "tender-weekly",
   "metadata": {},
   "outputs": [],
   "source": [
    "states = ['0', '1']\n",
    "probs = quantum_circuit()\n",
    "\n",
    "plt.figure()\n",
    "\n",
    "plt.bar(states, probs)\n",
    "plt.xlabel('State', fontsize=18)\n",
    "plt.ylabel('Probability', fontsize=16)\n"
   ]
  },
  {
   "cell_type": "markdown",
   "id": "composite-union",
   "metadata": {},
   "source": [
    "```{figure} /_static/probs-1.PNG\n",
    ":scale: 100%\n",
    ":name: probs-1 \n",
    "Results of `quantum_circuit()` visualized using matplotlib\n",
    "\n",
    "```\n",
    "\n",
    "## More Code\n",
    "```{admonition} Exercise: Create a system of two qubits\n",
    ":class: tip\n",
    "\n",
    "Create a circuit with two wires. To the first qubit apply the Hadamard gate. To the second qubit apply the X gate. Return the measurement probabilities for both qubits. If you cannot figure it out, don't worry! The next coding section has you covered.\n",
    "\n",
    "```\n",
    "\n",
    "## Further reading\n",
    "\n",
    "[PennyLane documentation](https://pennylane.readthedocs.io/en/stable/introduction/circuits.html) provides more information about creating quantum nodes and circuits."
   ]
  }
 ],
 "metadata": {
  "jupytext": {
   "text_representation": {
    "extension": ".md",
    "format_name": "myst"
   }
  },
  "kernelspec": {
   "display_name": "Python 3",
   "language": "python",
   "name": "python3"
  },
  "source_map": [
   10,
   31,
   36,
   41,
   45,
   51,
   57,
   61,
   68,
   73,
   84,
   89,
   92,
   99,
   109
  ]
 },
 "nbformat": 4,
 "nbformat_minor": 5
}
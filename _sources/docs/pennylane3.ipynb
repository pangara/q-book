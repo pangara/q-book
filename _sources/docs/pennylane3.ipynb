{
 "cells": [
  {
   "cell_type": "markdown",
   "id": "decimal-arrangement",
   "metadata": {},
   "source": [
    "(pennylane3)=\n",
    "# PennyLane III: Teleportation \n",
    "We are finally ready to create and run the teleportation circuit using PennyLane. We have to do the following after setup:\n",
    "1. Create a device with three wires\n",
    "2. Prepare the first qubit in some desired state\n",
    "2. Eve: Prepare a bell pair between the second and third qubit.\n",
    "2. Alice: Perform CNOT between the first and second qubit, followed by a Hadamard\n",
    "3. **Measure the first and second qubit**\n",
    "4. **Apply the controlled-Z and controlled-NOT gates to the first and second measured qubits.** \n",
    "\n",
    "```{admonition} But wait!\n",
    ":class: warning\n",
    "Measurement has to be the last part in a quantum circuit in PennyLane, i.e., we cannot perform partial measurements. Fortunately, the [Principle of Deferred Measurement](https://en.wikipedia.org/wiki/Deferred_Measurement_Principle) comes to our rescue. This is a result of quantum computing which states that delaying measurements until the end of a quantum computation does not affect the probability distribution of the outcomes. Therefore, we can swap the last two steps without affecting our results. \n",
    "```\n",
    "\n",
    "\n",
    "## Setup\n",
    "Let's start with our usual setup by importing the necessary libraries"
   ]
  },
  {
   "cell_type": "code",
   "execution_count": null,
   "id": "entertaining-heavy",
   "metadata": {},
   "outputs": [],
   "source": [
    "import pennylane as qml\n",
    "from pennylane import numpy as np"
   ]
  },
  {
   "cell_type": "markdown",
   "id": "alive-model",
   "metadata": {},
   "source": [
    "## Create a device with three qubits"
   ]
  },
  {
   "cell_type": "code",
   "execution_count": null,
   "id": "grave-ticket",
   "metadata": {},
   "outputs": [],
   "source": [
    "dev = qml.device('default.qubit', wires=3)\n"
   ]
  },
  {
   "cell_type": "markdown",
   "id": "amazing-advance",
   "metadata": {},
   "source": [
    "## Create the teleportation circuit"
   ]
  },
  {
   "cell_type": "code",
   "execution_count": null,
   "id": "wicked-tooth",
   "metadata": {},
   "outputs": [],
   "source": [
    "@qml.qnode(dev)\n",
    "def teleportation():\n",
    "\n",
    "    # Alice: Prepare q1\n",
    "    # We do nothing here to send the |0> qubit\n",
    "\n",
    "    # Eve: Prepare q2 & q3 in the bell state\n",
    "    qml.Hadamard(wires=1)\n",
    "    qml.CNOT(wires=[1, 2])\n",
    "    \n",
    "    # Alice\n",
    "    qml.CNOT(wires=[0, 1])\n",
    "    qml.Hadamard(wires=0)\n",
    "    \n",
    "    qml.CZ(wires=[0, 2])\n",
    "    qml.CNOT(wires=[1, 2])\n",
    "\n",
    "    return qml.probs(wires=[0, 1, 2])\n"
   ]
  },
  {
   "cell_type": "markdown",
   "id": "solar-railway",
   "metadata": {},
   "source": [
    "## Run the circuit"
   ]
  },
  {
   "cell_type": "code",
   "execution_count": null,
   "id": "genuine-massage",
   "metadata": {},
   "outputs": [],
   "source": [
    "teleportation()"
   ]
  },
  {
   "cell_type": "markdown",
   "id": "opposite-radiation",
   "metadata": {},
   "source": [
    "`array([0.25, 0.  , 0.25, 0.  , 0.25, 0.  , 0.25, 0.  ])`  \n",
    "\n",
    "\n",
    "\n",
    "## Visualize Results\n",
    "Since we have three qubits it can be in one of eight ($2^3$) states. Here we focus on the third qubit."
   ]
  },
  {
   "cell_type": "code",
   "execution_count": null,
   "id": "imposed-trailer",
   "metadata": {},
   "outputs": [],
   "source": [
    "states = ['00', '01', '10', '11']\n",
    "probs = entanglement()\n",
    "\n",
    "plt.figure()\n",
    "\n",
    "plt.bar(states, probs)\n",
    "plt.xlabel('State', fontsize=18)\n",
    "plt.ylabel('Probability', fontsize=16)\n"
   ]
  },
  {
   "cell_type": "markdown",
   "id": "applicable-arbitration",
   "metadata": {},
   "source": [
    "```{figure} /_static/probs-3.PNG\n",
    ":scale: 100%\n",
    ":name: probs-3\n",
    "Results of `teleportation()` visualized using matplotlib\n",
    "\n",
    "```\n",
    "If you look closely at the results, the probability bars only show up when the third qubit is 0. The probability of getting a 1 for the third qubit is 0. \n",
    "\n",
    "## More Code\n",
    "```{admonition} Exercise: Send other states\n",
    "Interpret the results when Alice sends the following states:\n",
    "1. $|1\\rangle$\n",
    "2. $\\frac{|0\\rangle + |1\\rangle}{\\sqrt 2}$\n",
    "\n",
    "```\n",
    "\n",
    "## Further reading\n",
    "\n",
    "[PennyLane documentation](https://pennylane.readthedocs.io/en/stable/introduction/circuits.html) provides more information about creating quantum nodes and circuits."
   ]
  }
 ],
 "metadata": {
  "jupytext": {
   "text_representation": {
    "extension": ".md",
    "format_name": "myst"
   }
  },
  "kernelspec": {
   "display_name": "Python 3",
   "language": "python",
   "name": "python3"
  },
  "source_map": [
   10,
   31,
   34,
   37,
   41,
   45,
   66,
   70,
   73,
   82,
   92
  ]
 },
 "nbformat": 4,
 "nbformat_minor": 5
}